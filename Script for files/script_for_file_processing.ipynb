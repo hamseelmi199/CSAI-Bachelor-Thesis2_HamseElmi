{
 "cells": [
  {
   "cell_type": "markdown",
   "metadata": {},
   "source": [
    "# DICOM to NIfTI Conversion and Other Utilities\n",
    "\n",
    "This notebook demonstrates how to:\n",
    "1. Convert a series of DICOM files to a NIfTI volume.\n",
    "2. Inspect and visualize NIfTI slices.\n",
    "3. Rename files according to a desired pattern.\n",
    "4. Use `dcm2niix` for batch DICOM conversions.\n",
    "5. Organize directories by moving/renaming files."
   ]
  },
  {
   "cell_type": "code",
   "metadata": {
    "tags": []
   },
   "source": [
    "import pydicom\n",
    "import nibabel as nib\n",
    "import numpy as np\n",
    "import os\n",
    "\n",
    "def dicom_to_nifti(dicom_dir, output_file):\n",
    "    \"\"\"\n",
    "    Converts a directory of DICOM files into a single 3D NIfTI file.\n",
    "    \n",
    "    Args:\n",
    "        dicom_dir (str): Directory containing DICOM files.\n",
    "        output_file (str): Output file path for the created NIfTI.\n",
    "    \"\"\"\n",
    "    # Load all .dcm files in the directory\n",
    "    dicom_files = [pydicom.dcmread(os.path.join(dicom_dir, f)) \n",
    "                   for f in os.listdir(dicom_dir) if f.endswith('.dcm')]\n",
    "    \n",
    "    # Sort slices by InstanceNumber to maintain correct 3D ordering\n",
    "    dicom_files.sort(key=lambda x: x.InstanceNumber)\n",
    "\n",
    "    # Extract the pixel_array from each DICOM object and stack into a 3D volume\n",
    "    pixel_arrays = [ds.pixel_array for ds in dicom_files]\n",
    "    image_3d = np.stack(pixel_arrays, axis=-1)\n",
    "\n",
    "    # Create an identity affine matrix (could be replaced with a more precise one)\n",
    "    affine = np.eye(4)\n",
    "    \n",
    "    # Create a NIfTI image from the 3D array\n",
    "    nifti_image = nib.Nifti1Image(image_3d, affine)\n",
    "\n",
    "    # Save the NIfTI file to the specified output path\n",
    "    nib.save(nifti_image, output_file)\n",
    "    print(f\"Saved NIfTI file to {output_file}\")\n",
    "\n",
    "# Example usage of the dicom_to_nifti function\n",
    "dicom_dir = '/home/hamse/Documents/dataset/AD ADNI3 FBB/ADNI/013_S_6768/PET_Brain_NEURACEQ_DYNAMIC_FBB/2019-10-23_14_38_38.0/I1245977'\n",
    "output_file = '/home/hamse/Documents/dataset/AD ADNI3 FBB/ADNI/013_S_6768/PET_Brain_NEURACEQ_DYNAMIC_FBB/2019-10-23_14_38_38.0/I1245977'\n",
    "dicom_to_nifti(dicom_dir, output_file)\n",
    "\n",
    "# Shell command using dcm2niix for DICOM to NIfTI conversion (alternative approach)\n",
    "# Adjust the paths and options as necessary for your setup.\n",
    "dcm2niix_command = (\n",
    "    \"dcm2niix -o ~'/home/hamse/Documents/dataset/AD ADNI3 FBB/ADNI/013_S_6768/\"\n",
    "    \"PET_Brain_NEURACEQ_DYNAMIC_FBB/2019-10-23_14_38_38.0/I1245977' \"\n",
    "    \"~'/home/hamse/Documents/dataset/AD ADNI3 FBB/ADNI/013_S_6768/\"\n",
    "    \"PET_Brain_NEURACEQ_DYNAMIC_FBB/2019-10-23_14_38_38.0/I1245977'\"\n",
    ")\n",
    "print(dcm2niix_command)  # This is just printed; remove if you'd like to run it directly in a shell."
   ],
   "execution_count": null,
   "outputs": []
  },
  {
   "cell_type": "markdown",
   "metadata": {},
   "source": [
    "## Visualizing a NIfTI File (Single Slice)"
   ]
  },
  {
   "cell_type": "code",
   "metadata": {},
   "source": [
    "import nibabel as nib\n",
    "import matplotlib.pyplot as plt\n",
    "import numpy as np\n",
    "\n",
    "# Load a specific NIfTI file\n",
    "nifti_file = '/home/hamse/Documents/dataset/AD ADNI3 FBB/ADNI/013_S_6768/PET_Brain_NEURACEQ_DYNAMIC_FBB/2019-10-23_14_38_38.0/I1245977/I1245977_PET_Brain_NEURACEQ_DYNAMIC_20191023141617_4.nii'\n",
    "img = nib.load(nifti_file)\n",
    "data = img.get_fdata()  # Convert image to a NumPy array\n",
    "\n",
    "# If there is a 4D dataset, select the first volume\n",
    "if data.ndim == 4:\n",
    "    data = data[..., 0]\n",
    "\n",
    "# Normalize the data values to [0,1] for better display\n",
    "data = (data - data.min()) / (data.max() - data.min())\n",
    "\n",
    "# Select a slice to visualize. Here, we choose one-quarter into the z-dimension.\n",
    "slice_index = data.shape[2] // 4\n",
    "\n",
    "# Display the chosen axial slice\n",
    "plt.figure(figsize=(5, 5))\n",
    "plt.imshow(data[:, :, slice_index], cmap='gray')\n",
    "plt.title(\"Axial View (Slice Index = 1/4 of total)\")\n",
    "plt.axis('off')\n",
    "plt.show()"
   ],
   "execution_count": null,
   "outputs": []
  },
  {
   "cell_type": "markdown",
   "metadata": {},
   "source": [
    "## Inspect the Shape of the NIfTI Data"
   ]
  },
  {
   "cell_type": "code",
   "metadata": {},
   "source": [
    "import nibabel as nib\n",
    "\n",
    "# Load the same (or different) NIfTI file\n",
    "nifti_file = '/home/hamse/Documents/dataset/AD ADNI3 FBB/ADNI/013_S_6768/PET_Brain_NEURACEQ_DYNAMIC_FBB/2019-10-23_14_38_38.0/I1245977/I1245977_PET_Brain_NEURACEQ_DYNAMIC_20191023141617_4.nii'\n",
    "img = nib.load(nifti_file)\n",
    "data = img.get_fdata()\n",
    "\n",
    "# Print the shape of the data to understand dimensions (e.g., X, Y, Z)\n",
    "print(\"Shape of the data:\", data.shape)\n",
    "\n",
    "# If data is 3D, the number of slices is the size along the z-axis\n",
    "num_slices = data.shape[2]\n",
    "print(\"Number of slices:\", num_slices)"
   ],
   "execution_count": null,
   "outputs": []
  },
  {
   "cell_type": "markdown",
   "metadata": {},
   "source": [
    "## Plotting Multiple NIfTI Slices in a Grid"
   ]
  },
  {
   "cell_type": "code",
   "metadata": {},
   "source": [
    "import nibabel as nib\n",
    "import matplotlib.pyplot as plt\n",
    "import numpy as np\n",
    "\n",
    "# Load the NIfTI file\n",
    "nifti_file = '/home/hamse/Documents/dataset/AD ADNI3 FBB/ADNI/013_S_6768/PET_Brain_NEURACEQ_DYNAMIC_FBB/2019-10-23_14_38_38.0/I1245977/I1245977_PET_Brain_NEURACEQ_DYNAMIC_20191023141617_4.nii'\n",
    "img = nib.load(nifti_file)\n",
    "data = img.get_fdata()\n",
    "\n",
    "# Normalize for visualization\n",
    "data = (data - data.min()) / (data.max() - data.min())\n",
    "\n",
    "# Determine how many slices there are\n",
    "num_slices = data.shape[2]\n",
    "cols = 10  # Number of columns in the display grid\n",
    "rows = int(np.ceil(num_slices / cols))  # Number of rows needed\n",
    "\n",
    "# Create a figure with a grid of subplots\n",
    "fig, axes = plt.subplots(rows, cols, figsize=(15, 15))\n",
    "axes = axes.flatten()  # Flatten to make it easy to iterate\n",
    "\n",
    "# Plot each slice in a subplot\n",
    "for i in range(num_slices):\n",
    "    axes[i].imshow(data[:, :, i], cmap='gray')\n",
    "    axes[i].axis('off')  # Hide axis ticks for a clean look\n",
    "\n",
    "# Hide any empty plots if num_slices < rows * cols\n",
    "for i in range(num_slices, len(axes)):\n",
    "    axes[i].axis('off')\n",
    "\n",
    "plt.tight_layout()\n",
    "plt.show()"
   ],
   "execution_count": null,
   "outputs": []
  },
  {
   "cell_type": "markdown",
   "metadata": {},
   "source": [
    "## Using `dcm2niix` in Python (Subprocess for Batch Conversion)"
   ]
  },
  {
   "cell_type": "code",
   "metadata": {},
   "source": [
    "import os\n",
    "import subprocess\n",
    "\n",
    "# Define the input and output directories\n",
    "dcim_dir = \"/home/hamse/Documents/dataset 2.0/N/dcim\"\n",
    "niftis_dir = \"/home/hamse/Documents/dataset 2.0/N/nftis\"\n",
    "\n",
    "# Iterate over folders in the DICOM directory\n",
    "for folder in os.listdir(dcim_dir):\n",
    "    folder_path = os.path.join(dcim_dir, folder)\n",
    "    \n",
    "    # Only process if it's a valid directory\n",
    "    if os.path.isdir(folder_path):\n",
    "        # Input DICOM folder path\n",
    "        inp = folder_path\n",
    "        \n",
    "        # Corresponding output folder path for NIfTI files\n",
    "        out = os.path.join(niftis_dir, folder)\n",
    "        \n",
    "        # Create the output directory if it does not exist\n",
    "        os.makedirs(out, exist_ok=True)\n",
    "        \n",
    "        # Construct and run the dcm2niix command\n",
    "        command = f'dcm2niix -o \"{out}\" \"{inp}\"'\n",
    "        subprocess.run(command, shell=True)"
   ],
   "execution_count": null,
   "outputs": []
  },
  {
   "cell_type": "markdown",
   "metadata": {},
   "source": [
    "## Checking for Duplicate Items in a List"
   ]
  },
  {
   "cell_type": "code",
   "metadata": {},
   "source": [
    "a = ['I1262409', 'I1370312', 'I966135', 'I1053175', 'I1281017', 'I1346704',\n",
    "     'I1245977', 'I1019088', 'I1369689', 'I1040762', 'I1476921', 'I1559915',\n",
    "     'I1265211', 'I1358480', 'I1352931', 'I1326076', 'I1268721', 'I1617994',\n",
    "     'I1181917', 'I1049841', 'I1141914', 'I1326077', 'I1268722', 'I994961',\n",
    "     'I1022107', 'I1528084', 'I1169971', 'I1584484', 'I1158613', 'D10245957',\n",
    "     'I1156484', 'I1083504', 'I1146177', 'I1222086', 'I903164', 'I1300334',\n",
    "     'I1158155', 'I1049430', 'I1278129', 'I1187871', 'I1610089', 'I1585187',\n",
    "     'I1166395', 'I1674817', 'I1185216', 'I1434190', 'I1494474', 'I1139340',\n",
    "     'I1425386', 'I1489941', 'I1229514', 'I1126661', 'I1178513', 'I1489940',\n",
    "     'I1227193', 'I858116', 'I1484506', 'I1044453', 'I1061155', 'I1285568']\n",
    "\n",
    "import collections\n",
    "# Print list of items that appear more than once\n",
    "duplicates = [item for item, count in collections.Counter(a).items() if count > 1]\n",
    "print(duplicates)"
   ],
   "execution_count": null,
   "outputs": []
  },
  {
   "cell_type": "markdown",
   "metadata": {},
   "source": [
    "## Listing Folders in a Directory"
   ]
  },
  {
   "cell_type": "code",
   "metadata": {},
   "source": [
    "import os\n",
    "\n",
    "directory = \"/home/hamse/Documents/dataset 2.0/AD\"\n",
    "folder_names = [name for name in os.listdir(directory) if os.path.isdir(os.path.join(directory, name))]\n",
    "print(folder_names)"
   ],
   "execution_count": null,
   "outputs": []
  },
  {
   "cell_type": "markdown",
   "metadata": {},
   "source": [
    "## Moving Files from Subdirectories to a Main Directory"
   ]
  },
  {
   "cell_type": "code",
   "metadata": {},
   "source": [
    "import os\n",
    "import shutil\n",
    "\n",
    "main_dir = \"/home/hamse/Documents/dataset 2.0/N/nftis\"\n",
    "\n",
    "# Walk through the entire directory tree\n",
    "for root, dirs, files in os.walk(main_dir):\n",
    "    for file in files:\n",
    "        file_path = os.path.join(root, file)\n",
    "        # Move the file to the main directory (main_dir)\n",
    "        shutil.move(file_path, os.path.join(main_dir, file))\n",
    "\n",
    "# Now remove the empty subdirectories\n",
    "for dir in os.listdir(main_dir):\n",
    "    dir_path = os.path.join(main_dir, dir)\n",
    "    if os.path.isdir(dir_path):\n",
    "        os.rmdir(dir_path)"
   ],
   "execution_count": null,
   "outputs": []
  },
  {
   "cell_type": "markdown",
   "metadata": {},
   "source": [
    "## Renaming JSON Files by Extracting the First Part Before an Underscore"
   ]
  },
  {
   "cell_type": "code",
   "metadata": {},
   "source": [
    "import os\n",
    "\n",
    "json_dir = \"/home/hamse/Documents/dataset 2.0/N/json\"\n",
    "\n",
    "for filename in os.listdir(json_dir):\n",
    "    if filename.endswith('.json'):\n",
    "        # Extract new name from the first part before the underscore\n",
    "        new_name = filename.split('_')[0] + '.json'\n",
    "        \n",
    "        original_path = os.path.join(json_dir, filename)\n",
    "        new_path = os.path.join(json_dir, new_name)\n",
    "        \n",
    "        os.rename(original_path, new_path)\n",
    "\n",
    "print(\"JSON files renamed successfully.\")"
   ],
   "execution_count": null,
   "outputs": []
  },
  {
   "cell_type": "markdown",
   "metadata": {},
   "source": [
    "## Listing Folders in Another Directory (MCI)"
   ]
  },
  {
   "cell_type": "code",
   "metadata": {},
   "source": [
    "import os\n",
    "\n",
    "directory = \"/home/hamse/Documents/dataset 2.0/MCI\"\n",
    "folder_names = [name for name in os.listdir(directory) if os.path.isdir(os.path.join(directory, name))]\n",
    "print(folder_names)"
   ],
   "execution_count": null,
   "outputs": []
  },
  {
   "cell_type": "markdown",
   "metadata": {},
   "source": [
    "## Renaming `.nii` Files by Keeping Only the Part Before the Underscore"
   ]
  },
  {
   "cell_type": "code",
   "metadata": {},
   "source": [
    "import os\n",
    "\n",
    "niftis_dir = \"/home/hamse/Documents/dataset 2.0/N/nftis\"\n",
    "\n",
    "for filename in os.listdir(niftis_dir):\n",
    "    if filename.endswith('.nii'):\n",
    "        new_name = filename.split('_')[0] + '.nii'\n",
    "        \n",
    "        original_path = os.path.join(niftis_dir, filename)\n",
    "        new_path = os.path.join(niftis_dir, new_name)\n",
    "        \n",
    "        os.rename(original_path, new_path)\n",
    "\n",
    "print(\"Files renamed successfully.\")"
   ],
   "execution_count": null,
   "outputs": []
  },
  {
   "cell_type": "markdown",
   "metadata": {},
   "source": [
    "*(Empty cell for future usage or notes.)*"
   ]
  }
 ],
 "metadata": {
  "kernelspec": {
   "display_name": "Python 3",
   "language": "python",
   "name": "python3"
  },
  "language_info": {
   "codemirror_mode": {
    "name": "ipython",
    "version": 3
   },
   "file_extension": ".py",
   "mimetype": "text/x-python",
   "name": "python",
   "nbconvert_exporter": "python",
   "pygments_lexer": "ipython3",
   "version": "3.9"
  }
 },
 "nbformat": 4,
 "nbformat_minor": 5
}
